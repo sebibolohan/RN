{
 "cells": [
  {
   "cell_type": "markdown",
   "id": "39e0965c",
   "metadata": {},
   "source": [
    "1. Parsing the System of Equations (1 point)"
   ]
  },
  {
   "cell_type": "code",
   "execution_count": 3,
   "id": "3657d174",
   "metadata": {},
   "outputs": [
    {
     "name": "stdout",
     "output_type": "stream",
     "text": [
      "{'x': 2.0, 'y': 3.0, 'z': -1.0}\n",
      "{'x': 1.0, 'y': -1.0, 'z': 4.0}\n",
      "{'x': 3.0, 'y': 1.0, 'z': 2.0}\n",
      "A=[[2.0, 3.0, -1.0], [1.0, -1.0, 4.0], [3.0, 1.0, 2.0]] B=[5.0, 6.0, 7.0]\n"
     ]
    }
   ],
   "source": [
    "import pathlib\n",
    "var=(\"x\",\"y\",\"z\")\n",
    "def coef(token: str)->float:\n",
    "    num= token[:-1]\n",
    "    return float(num) if num else 1.0\n",
    "\n",
    "def parse_line(line: str) -> tuple[list[float], float]:\n",
    "    tokens=line.strip().split()\n",
    "    coeff={}\n",
    "    coeff={v:0.0 for v in var}\n",
    "    coeff[\"x\"]=coef(tokens[0])\n",
    "    if(tokens[1]==\"+\"):\n",
    "         coeff[\"y\"]=coef(tokens[2]) \n",
    "    else:\n",
    "         coeff[\"y\"]=-coef(tokens[2])\n",
    "    if(tokens[3]==\"+\"):\n",
    "         coeff[\"z\"]=coef(tokens[4])\n",
    "    else:\n",
    "         coeff[\"z\"]=-coef(tokens[4])\n",
    "    \n",
    "    if(tokens[5]!=\"=\"):\n",
    "        raise ValueError(\"Invalid format\")\n",
    "    b=float(tokens[6])\n",
    "    print(coeff)\n",
    "    return [coeff[v] for v in var], b\n",
    "        \n",
    "\n",
    "def load_system(path: pathlib.Path) -> tuple[list[list[float]], list[float]]:\n",
    "    A: list[list[float]] = []  \n",
    "    B: list[float] = [] \n",
    "    with path.open(\"r\",encoding=\"utf-8\") as f:\n",
    "        for raw in f:\n",
    "            line=raw.strip()\n",
    "            if not line:\n",
    "                continue\n",
    "            row, b=parse_line(line)\n",
    "            A.append(row)\n",
    "            B.append(b)\n",
    "    return A, B\n",
    "                   \n",
    "\n",
    "A, B = load_system(pathlib.Path(\"system.txt\"))\n",
    "print(f\"{A=} {B=}\")"
   ]
  },
  {
   "cell_type": "markdown",
   "id": "feae612f",
   "metadata": {},
   "source": [
    "\n",
    "2. Matrix and Vector Operations (5 points)\n",
    "\n",
    "2.1. Determinant\n"
   ]
  },
  {
   "cell_type": "code",
   "execution_count": 4,
   "id": "05b5b3d3",
   "metadata": {},
   "outputs": [
    {
     "name": "stdout",
     "output_type": "stream",
     "text": [
      "determinant(A)=14.0\n"
     ]
    }
   ],
   "source": [
    "def determinant(matrix: list[list[float]]) -> float:\n",
    "    det=0.0\n",
    "    if(len(matrix[0])==2): \n",
    "        det= matrix[0][0]*matrix[1][1]-matrix[0][1]*matrix[1][0]\n",
    "    if(len(matrix[0])==3):\n",
    "        det= (matrix[0][0] * (matrix[1][1] * matrix[2][2] - matrix[1][2] * matrix[2][1])\n",
    "            - matrix[0][1] * (matrix[1][0] * matrix[2][2] - matrix[1][2] * matrix[2][0])\n",
    "            + matrix[0][2] * (matrix[1][0] * matrix[2][1] - matrix[1][1] * matrix[2][0]))\n",
    "    return det\n",
    "\n",
    "print(f\"{determinant(A)=}\")"
   ]
  },
  {
   "cell_type": "markdown",
   "id": "dad0824f",
   "metadata": {},
   "source": [
    "2.2. Trace"
   ]
  },
  {
   "cell_type": "code",
   "execution_count": 5,
   "id": "0b8c7c5e",
   "metadata": {},
   "outputs": [
    {
     "name": "stdout",
     "output_type": "stream",
     "text": [
      "trace(A)=3.0\n"
     ]
    }
   ],
   "source": [
    "def trace(matrix: list[list[float]]) -> float:\n",
    "    return matrix[0][0] + matrix[1][1] + matrix[2][2]\n",
    "print(f\"{trace(A)=}\")"
   ]
  },
  {
   "cell_type": "markdown",
   "id": "142e835d",
   "metadata": {},
   "source": [
    "2.3. Vector norm"
   ]
  },
  {
   "cell_type": "code",
   "execution_count": 6,
   "id": "f8a41717",
   "metadata": {},
   "outputs": [
    {
     "name": "stdout",
     "output_type": "stream",
     "text": [
      "norm(B)=10.488088481701515\n"
     ]
    }
   ],
   "source": [
    "from math import sqrt\n",
    "def norm(vector: list[float]) -> float:\n",
    "    return sqrt(vector[0]**2+vector[1]**2+vector[2]**2)\n",
    "print(f\"{norm(B)=}\")"
   ]
  },
  {
   "cell_type": "markdown",
   "id": "48bd76bd",
   "metadata": {},
   "source": [
    "2.4. Transpose of matrix"
   ]
  },
  {
   "cell_type": "code",
   "execution_count": 7,
   "id": "87e539e3",
   "metadata": {},
   "outputs": [
    {
     "name": "stdout",
     "output_type": "stream",
     "text": [
      "transpose(A)=[[2.0, 1.0, 3.0], [3.0, -1.0, 1.0], [-1.0, 4.0, 2.0]]\n"
     ]
    }
   ],
   "source": [
    "def transpose(matrix: list[list[float]]) -> list[list[float]]:\n",
    "    matrix2=[[0.0 for _ in range(3)] for _ in range(3)]\n",
    "    for i in range(3):\n",
    "       for j in range(3):\n",
    "            matrix2[i][j]=matrix[j][i]\n",
    "    return matrix2\n",
    "\n",
    "print(f\"{transpose(A)=}\")"
   ]
  },
  {
   "cell_type": "markdown",
   "id": "ac6bf454",
   "metadata": {},
   "source": [
    "2.5. Matrix-vector multiplication"
   ]
  },
  {
   "cell_type": "code",
   "execution_count": 8,
   "id": "35993c10",
   "metadata": {},
   "outputs": [
    {
     "name": "stdout",
     "output_type": "stream",
     "text": [
      "multiply(A,B)=[21.0, 27.0, 35.0]\n"
     ]
    }
   ],
   "source": [
    "def multiply(matrix: list[list[float]], vector: list[float]) -> list[float]:\n",
    "    matrix2=[0.0 for _ in range(3)]\n",
    "    for i in range(3):\n",
    "        for j in range(3):\n",
    "            matrix2[i]+=matrix[i][j]*vector[j]\n",
    "    return matrix2\n",
    "            \n",
    "print(f\"{multiply(A,B)=}\")\n",
    "    "
   ]
  },
  {
   "cell_type": "markdown",
   "id": "2ededb25",
   "metadata": {},
   "source": [
    "3. Solving using Cramer's Rule (1 point)"
   ]
  },
  {
   "cell_type": "code",
   "execution_count": 9,
   "id": "13231f4f",
   "metadata": {},
   "outputs": [
    {
     "name": "stdout",
     "output_type": "stream",
     "text": [
      "detA=14.0\n",
      "solve_cramer(A, B)=[0.35714285714285715, 2.0714285714285716, 1.9285714285714286]\n"
     ]
    }
   ],
   "source": [
    "def solve_cramer(matrix: list[list[float]], vector: list[float]) -> list[float]:\n",
    "    detA=determinant(matrix)\n",
    "    print(f\"{detA=}\")\n",
    "    if detA==0:\n",
    "        raise ValueError(\"The system has no unique solution\")\n",
    "    solution=[0.0 for _ in range(3)]\n",
    "    for i in range(3):\n",
    "        matrix2=[[matrix[r][c] for c in range(3)] for r in range(3)]\n",
    "        for r in range(3):\n",
    "            matrix2[r][i]=vector[r]\n",
    "        detAi=determinant(matrix2)\n",
    "        solution[i]=detAi/detA\n",
    "    return solution\n",
    "print(f\"{solve_cramer(A, B)=}\")"
   ]
  },
  {
   "cell_type": "markdown",
   "id": "7ac316ed",
   "metadata": {},
   "source": [
    "4. Solving using Inversion (3 points)"
   ]
  },
  {
   "cell_type": "code",
   "execution_count": 10,
   "id": "488572e6",
   "metadata": {},
   "outputs": [
    {
     "name": "stdout",
     "output_type": "stream",
     "text": [
      "[[2.0, 3.0, -1.0], [1.0, -1.0, 4.0], [3.0, 1.0, 2.0]]\n",
      "[5.0, 6.0, 7.0]\n",
      "cofactor_matrix=[[-6.0, 10.0, 4.0], [-7.0, 7.0, 7.0], [11.0, -9.0, -5.0]]\n",
      "detA=14.0\n",
      "solve(A, B)=[0.35714285714285765, 2.071428571428571, 1.9285714285714293]\n"
     ]
    }
   ],
   "source": [
    "def minor(matrix: list[list[float]], i: int, j: int) -> list[list[float]]:\n",
    "    return [[matrix[r][c] for c in range(3) if c != j] for r in range(3) if r != i]\n",
    "\n",
    "def cofactor(matrix: list[list[float]]) -> list[list[float]]:\n",
    "    cofactor_matrix=[[0.0 for _ in range(3)] for _ in range(3)]\n",
    "    for i in range(3):\n",
    "        for j in range(3):\n",
    "            minor_ij=minor(matrix,i,j)\n",
    "            cofactor_matrix[i][j]=(((-1)**(i+j))*determinant(minor_ij))\n",
    "    return cofactor_matrix\n",
    "            \n",
    "\n",
    "def adjoint(matrix: list[list[float]]) -> list[list[float]]:\n",
    "    cofactor_matrix=cofactor(matrix)\n",
    "    print(f\"{cofactor_matrix=}\")\n",
    "    return transpose(cofactor_matrix)\n",
    "\n",
    "def solve(matrix: list[list[float]], vector: list[float]) -> list[float]:\n",
    "    matrix2=[[0.0 for _ in range(3)] for _ in range(3)]\n",
    "    adjoint_matrix=adjoint(matrix)\n",
    "    detA=determinant(matrix)\n",
    "    print(f\"{detA=}\")\n",
    "    for i in range(3):\n",
    "        for j in range(3):\n",
    "            matrix2[i][j]=matrix[i][j]\n",
    "    for i in range(3):\n",
    "        for j in range(3):\n",
    "            matrix2[i][j]=adjoint_matrix[i][j]*(1/detA)   \n",
    "    solution= multiply(matrix2,vector)\n",
    "    return solution\n",
    "\n",
    "print(A)\n",
    "print(B)\n",
    "print(f\"{solve(A, B)=}\")"
   ]
  }
 ],
 "metadata": {
  "kernelspec": {
   "display_name": "313",
   "language": "python",
   "name": "python3"
  },
  "language_info": {
   "codemirror_mode": {
    "name": "ipython",
    "version": 3
   },
   "file_extension": ".py",
   "mimetype": "text/x-python",
   "name": "python",
   "nbconvert_exporter": "python",
   "pygments_lexer": "ipython3",
   "version": "3.13.7"
  }
 },
 "nbformat": 4,
 "nbformat_minor": 5
}
